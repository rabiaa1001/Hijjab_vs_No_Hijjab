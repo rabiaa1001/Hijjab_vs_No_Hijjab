{
 "cells": [
  {
   "cell_type": "code",
   "execution_count": 7,
   "id": "71f5074f-a901-48b6-8a0d-271ff2ba7374",
   "metadata": {},
   "outputs": [
    {
     "data": {
      "text/plain": [
       "(224, 224, 3)"
      ]
     },
     "execution_count": 7,
     "metadata": {},
     "output_type": "execute_result"
    }
   ],
   "source": [
    "from tensorflow.keras.models import load_model\n",
    "from tensorflow.keras.preprocessing import image\n",
    "from tensorflow.keras.applications.resnet50 import preprocess_input\n",
    "from PIL import Image\n",
    "import numpy as np\n",
    "\n",
    "\n",
    "MODEL = load_model('hijjab_model_resnet50_v2.h5',compile=False)\n",
    "\n",
    "img = Image.open('none4.jpg')\n",
    "img = img.resize((224,224))\n",
    "x = image.img_to_array(img)\n",
    "x = x[:,:,:3]\n",
    "x.shape\n",
    "# x = preprocess_input(x)\n",
    "# x = np.expand_dims(x, axis=0)\n",
    "# pred = MODEL.predict(x)[0]\n",
    "# print(np.argmax(pred))\n",
    "# print(type(pred))"
   ]
  },
  {
   "cell_type": "code",
   "execution_count": null,
   "id": "17d12bc4-8323-47af-b337-b934e6f7fd8e",
   "metadata": {},
   "outputs": [],
   "source": []
  }
 ],
 "metadata": {
  "kernelspec": {
   "display_name": "Python 3 (ipykernel)",
   "language": "python",
   "name": "python3"
  },
  "language_info": {
   "codemirror_mode": {
    "name": "ipython",
    "version": 3
   },
   "file_extension": ".py",
   "mimetype": "text/x-python",
   "name": "python",
   "nbconvert_exporter": "python",
   "pygments_lexer": "ipython3",
   "version": "3.9.10"
  }
 },
 "nbformat": 4,
 "nbformat_minor": 5
}
